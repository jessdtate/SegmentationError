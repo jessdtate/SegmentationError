{
 "cells": [
  {
   "cell_type": "code",
   "execution_count": 19,
   "metadata": {},
   "outputs": [],
   "source": [
    "import numpy as np\n",
    "import os\n",
    "import fnmatch\n",
    "import scipy.io\n",
    "\n"
   ]
  },
  {
   "cell_type": "code",
   "execution_count": 9,
   "metadata": {},
   "outputs": [
    {
     "name": "stdout",
     "output_type": "stream",
     "text": [
      "(512, 3)\n"
     ]
    }
   ],
   "source": [
    "path = '/Users/jess/CIBC/FP/segmentation_error/Dalhousie_seg/shape_data/lv_endo/analyzed/'\n",
    "\n",
    "filename_lv = os.path.join(path,'lv_endo_PCA_mode0-10.pts')\n",
    "mean_lv = np.loadtxt(filename_lv)\n",
    "print(mean_lv.shape)\n",
    "\n",
    "f_lv_name_0 = os.path.join(path,'lv_endo_PCA_mode0-0.pts')\n",
    "f_lv_name_19 = os.path.join(path,'lv_endo_PCA_mode0-19.pts')\n",
    "bot_lv = np.loadtxt(f_lv_name_0)\n",
    "top_lv = np.loadtxt(f_lv_name_19)\n",
    "\n",
    "lv_diff1 = mean_lv - bot_lv\n",
    "lv_diff2 = mean_lv - top_lv\n",
    "lv_diff3 = top_lv - bot_lv\n",
    "\n",
    "lv_dist1 = np.sqrt(np.sum(lv_diff1*lv_diff1,1))\n",
    "lv_dist2 = np.sqrt(np.sum(lv_diff2*lv_diff2,1))\n",
    "lv_dist3 = np.sqrt(np.sum(lv_diff3*lv_diff3,1))\n",
    "\n"
   ]
  },
  {
   "cell_type": "code",
   "execution_count": 10,
   "metadata": {},
   "outputs": [
    {
     "name": "stdout",
     "output_type": "stream",
     "text": [
      "(1024, 3)\n"
     ]
    }
   ],
   "source": [
    "path = '/Users/jess/CIBC/FP/segmentation_error/Dalhousie_seg/shape_data/epi/analyzed/'\n",
    "\n",
    "filename_epi = os.path.join(path,'epi_PCA_mode0-10.pts')\n",
    "mean_epi = np.loadtxt(filename_epi)\n",
    "print(mean_epi.shape)\n",
    "\n",
    "f_epi_name_0 = os.path.join(path,'epi_PCA_mode0-0.pts')\n",
    "f_epi_name_19 = os.path.join(path,'epi_PCA_mode0-19.pts')\n",
    "bot_epi = np.loadtxt(f_epi_name_0)\n",
    "top_epi = np.loadtxt(f_epi_name_19)\n",
    "\n",
    "epi_diff1 = mean_epi - bot_epi\n",
    "epi_diff2 = mean_epi - top_epi\n",
    "epi_diff3 = top_epi - bot_epi\n",
    "\n",
    "epi_dist1 = np.sqrt(np.sum(epi_diff1*epi_diff1,1))\n",
    "epi_dist2 = np.sqrt(np.sum(epi_diff2*epi_diff2,1))\n",
    "epi_dist3 = np.sqrt(np.sum(epi_diff3*epi_diff3,1))\n"
   ]
  },
  {
   "cell_type": "code",
   "execution_count": 11,
   "metadata": {},
   "outputs": [
    {
     "name": "stdout",
     "output_type": "stream",
     "text": [
      "(512, 3)\n"
     ]
    }
   ],
   "source": [
    "path = '/Users/jess/CIBC/FP/segmentation_error/Dalhousie_seg/shape_data/rv_endo/analyzed/'\n",
    "\n",
    "filename_rv = os.path.join(path,'rv_endo_PCA_mode0-10.pts')\n",
    "mean_rv = np.loadtxt(filename_rv)\n",
    "print(mean_rv.shape)\n",
    "\n",
    "f_rv_name_0 = os.path.join(path,'rv_endo_PCA_mode0-0.pts')\n",
    "f_rv_name_19 = os.path.join(path,'rv_endo_PCA_mode0-19.pts')\n",
    "bot_rv = np.loadtxt(f_rv_name_0)\n",
    "top_rv = np.loadtxt(f_rv_name_19)\n",
    "\n",
    "rv_diff1 = mean_rv - bot_rv\n",
    "rv_diff2 = mean_rv - top_rv\n",
    "rv_diff3 = top_rv - bot_rv\n",
    "\n",
    "rv_dist1 = np.sqrt(np.sum(rv_diff1*rv_diff1,1))\n",
    "rv_dist2 = np.sqrt(np.sum(rv_diff2*rv_diff2,1))\n",
    "rv_dist3 = np.sqrt(np.sum(rv_diff3*rv_diff3,1))"
   ]
  },
  {
   "cell_type": "code",
   "execution_count": 28,
   "metadata": {},
   "outputs": [
    {
     "name": "stdout",
     "output_type": "stream",
     "text": [
      "/Users/jess/CIBC/FP/segmentation_error/Dalhousie_seg/UQ_data/6105829a_01.120avg-pf_heart_shape_LAT_UQ_values.mat\n",
      "/Users/jess/CIBC/FP/segmentation_error/Dalhousie_seg/UQ_data/61058472_03.120avg-pf_heart_shape_LAT_UQ_values.mat\n",
      "/Users/jess/CIBC/FP/segmentation_error/Dalhousie_seg/UQ_data/6105b06d_10.120avg-pf_heart_shape_LAT_UQ_values.mat\n",
      "/Users/jess/CIBC/FP/segmentation_error/Dalhousie_seg/UQ_data/6105b134_16.120avg-pf_heart_shape_LAT_UQ_values.mat\n",
      "{'Sinus': 0.057393108317333345, 'LV_Paced': 0.06610483192425254, 'Apically_Paced': 0.11075380592758463, 'RV Paced': 0.12704178350009535}\n",
      "{'Sinus': 0.04488856385586776, 'LV_Paced': 0.06392529172900038, 'Apically_Paced': 0.1026413028671954, 'RV Paced': 0.11798479995400202}\n"
     ]
    }
   ],
   "source": [
    "path = '/Users/jess/CIBC/FP/segmentation_error/Dalhousie_seg/UQ_data/'\n",
    "\n",
    "files = os.listdir(path) \n",
    "\n",
    "datasetmap = {\"Sinus\" : \"6105829a_01.120avg-pf\", \"LV_Paced\": \"61058472_03.120avg-pf\", \"Apically_Paced\" : \"6105b06d_10.120avg-pf\" , \"RV Paced\" : \"6105b134_16.120avg-pf\"}\n",
    "\n",
    "LAT_mean = {}\n",
    "LAT_median = {}\n",
    "LAT_stdev = {}\n",
    "LAT_max_std = {}\n",
    "LAT_quantiles = {}\n",
    "LAT_max_quant={}\n",
    "\n",
    "for dset,froot in datasetmap.items():\n",
    "    \n",
    "    fname = fnmatch.filter(files, froot+'*LAT_UQ_values.mat')\n",
    "    if not len(fname)==1:\n",
    "        raise valuError(\"something wrong with the filenames: \", fname)\n",
    "    \n",
    "    filename = os.path.join(path, fname[0])\n",
    "    print(filename)\n",
    "    \n",
    "    tp = scipy.io.loadmat(filename)\n",
    "    \n",
    "#     print(tp)\n",
    "    \n",
    "    LAT_mean[dset] = tp['mean']\n",
    "    LAT_median[dset] = tp['median']\n",
    "    LAT_stdev[dset] = tp['stdev']\n",
    "    LAT_quantiles[dset] = tp['quantiles']\n",
    "    \n",
    "    LAT_max_std[dset] = np.max(tp['stdev'])\n",
    "    LAT_max_quant[dset] = np.max(tp['quantiles'][:,5]-tp['quantiles'][:,1])\n",
    "    \n",
    "print(LAT_max_std)\n",
    "print(LAT_max_quant)\n",
    "    \n"
   ]
  },
  {
   "cell_type": "code",
   "execution_count": null,
   "metadata": {},
   "outputs": [],
   "source": []
  }
 ],
 "metadata": {
  "kernelspec": {
   "display_name": "Python 3 (ipykernel)",
   "language": "python",
   "name": "python3"
  },
  "language_info": {
   "codemirror_mode": {
    "name": "ipython",
    "version": 3
   },
   "file_extension": ".py",
   "mimetype": "text/x-python",
   "name": "python",
   "nbconvert_exporter": "python",
   "pygments_lexer": "ipython3",
   "version": "3.9.13"
  },
  "toc": {
   "base_numbering": 1,
   "nav_menu": {},
   "number_sections": true,
   "sideBar": true,
   "skip_h1_title": false,
   "title_cell": "Table of Contents",
   "title_sidebar": "Contents",
   "toc_cell": false,
   "toc_position": {},
   "toc_section_display": true,
   "toc_window_display": false
  }
 },
 "nbformat": 4,
 "nbformat_minor": 2
}
